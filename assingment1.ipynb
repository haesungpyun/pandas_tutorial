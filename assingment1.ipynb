{
 "cells": [
  {
   "cell_type": "markdown",
   "id": "eed9556d",
   "metadata": {},
   "source": [
    "# 1.실행 방법\n",
    "## 1.1첫 번째: shift + enter -> 실행이 되고 아래에 셀이 하나 생성됨\n",
    "## 1.2두 번째: ctrl + enter -> 실행이 되고 그 셀에 그대로 있음\n"
   ]
  },
  {
   "cell_type": "markdown",
   "id": "92da0200",
   "metadata": {},
   "source": [
    "# 2. mode \n",
    "## 2.1 m: markdown 상태로\n",
    "## 2.2 y: 파이썬 코드 상태로\n"
   ]
  },
  {
   "cell_type": "markdown",
   "id": "872387a8",
   "metadata": {},
   "source": [
    "# 3. 셀 추가, 삭제\n",
    "## 3.1 추가: a -> 위쪽에 추가, b -> 아래쪽에 추가\n",
    "## 3.2 삭제: x"
   ]
  },
  {
   "cell_type": "code",
   "execution_count": 8,
   "id": "88c09cda",
   "metadata": {},
   "outputs": [
    {
     "name": "stdout",
     "output_type": "stream",
     "text": [
      "학과:  융합전자공학부\n"
     ]
    }
   ],
   "source": [
    "print(\"학과: \", \"융합전자공학부\")"
   ]
  },
  {
   "cell_type": "code",
   "execution_count": 10,
   "id": "62c9c69f",
   "metadata": {},
   "outputs": [
    {
     "name": "stdout",
     "output_type": "stream",
     "text": [
      "학번:  2017028695\n"
     ]
    }
   ],
   "source": [
    "print(\"학번: \", 2017028695)"
   ]
  },
  {
   "cell_type": "code",
   "execution_count": 11,
   "id": "b66f11e9",
   "metadata": {},
   "outputs": [
    {
     "name": "stdout",
     "output_type": "stream",
     "text": [
      "이름:  편해성\n"
     ]
    }
   ],
   "source": [
    "print(\"이름: \", \"편해성\")"
   ]
  }
 ],
 "metadata": {
  "kernelspec": {
   "display_name": "Python 3 (ipykernel)",
   "language": "python",
   "name": "python3"
  },
  "language_info": {
   "codemirror_mode": {
    "name": "ipython",
    "version": 3
   },
   "file_extension": ".py",
   "mimetype": "text/x-python",
   "name": "python",
   "nbconvert_exporter": "python",
   "pygments_lexer": "ipython3",
   "version": "3.8.11"
  }
 },
 "nbformat": 4,
 "nbformat_minor": 5
}
